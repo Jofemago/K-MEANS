{
 "cells": [
  {
   "cell_type": "markdown",
   "metadata": {},
   "source": [
    "# comparacion de tiempos"
   ]
  },
  {
   "cell_type": "code",
   "execution_count": 15,
   "metadata": {},
   "outputs": [],
   "source": [
    "import time\n",
    "import pandas as pd\n",
    "import numpy as np\n",
    "import seaborn as sns\n",
    "from matplotlib import pyplot as plt\n",
    "\n",
    "\n",
    "\n",
    "%matplotlib inline\n",
    "pd.set_option('display.max_columns', 250)\n",
    "pd.set_option('display.max_rows', 200)\n",
    "pd.options.display.float_format = '{:20,.1f}'.format"
   ]
  },
  {
   "cell_type": "code",
   "execution_count": 16,
   "metadata": {},
   "outputs": [],
   "source": [
    "ruta = \"./../data/\""
   ]
  },
  {
   "cell_type": "code",
   "execution_count": 17,
   "metadata": {},
   "outputs": [],
   "source": [
    "fileomp = \"valoresomp.csv\"\n",
    "filesec = \"valoressec.csv\""
   ]
  },
  {
   "cell_type": "code",
   "execution_count": 18,
   "metadata": {},
   "outputs": [],
   "source": [
    "omp = pd.read_csv(ruta + fileomp)\n",
    "sec = pd.read_csv(ruta + filesec)"
   ]
  },
  {
   "cell_type": "code",
   "execution_count": 19,
   "metadata": {},
   "outputs": [],
   "source": [
    "omp = omp.drop(['Unnamed: 13'], axis=1)\n",
    "sec = sec.drop(['Unnamed: 13'], axis=1)"
   ]
  },
  {
   "cell_type": "code",
   "execution_count": 20,
   "metadata": {},
   "outputs": [
    {
     "data": {
      "text/html": [
       "<div>\n",
       "<style scoped>\n",
       "    .dataframe tbody tr th:only-of-type {\n",
       "        vertical-align: middle;\n",
       "    }\n",
       "\n",
       "    .dataframe tbody tr th {\n",
       "        vertical-align: top;\n",
       "    }\n",
       "\n",
       "    .dataframe thead th {\n",
       "        text-align: right;\n",
       "    }\n",
       "</style>\n",
       "<table border=\"1\" class=\"dataframe\">\n",
       "  <thead>\n",
       "    <tr style=\"text-align: right;\">\n",
       "      <th></th>\n",
       "      <th>20</th>\n",
       "      <th>100</th>\n",
       "      <th>200</th>\n",
       "      <th>300</th>\n",
       "      <th>400</th>\n",
       "      <th>500</th>\n",
       "      <th>1000</th>\n",
       "      <th>1200</th>\n",
       "      <th>1500</th>\n",
       "      <th>1700</th>\n",
       "      <th>2000</th>\n",
       "      <th>2300</th>\n",
       "      <th>2500</th>\n",
       "    </tr>\n",
       "  </thead>\n",
       "  <tbody>\n",
       "    <tr>\n",
       "      <th>0</th>\n",
       "      <td>67</td>\n",
       "      <td>160</td>\n",
       "      <td>402</td>\n",
       "      <td>370</td>\n",
       "      <td>336</td>\n",
       "      <td>457</td>\n",
       "      <td>1052</td>\n",
       "      <td>820</td>\n",
       "      <td>737</td>\n",
       "      <td>787</td>\n",
       "      <td>952</td>\n",
       "      <td>887</td>\n",
       "      <td>977</td>\n",
       "    </tr>\n",
       "    <tr>\n",
       "      <th>1</th>\n",
       "      <td>41</td>\n",
       "      <td>158</td>\n",
       "      <td>399</td>\n",
       "      <td>462</td>\n",
       "      <td>311</td>\n",
       "      <td>458</td>\n",
       "      <td>1028</td>\n",
       "      <td>698</td>\n",
       "      <td>681</td>\n",
       "      <td>768</td>\n",
       "      <td>896</td>\n",
       "      <td>889</td>\n",
       "      <td>964</td>\n",
       "    </tr>\n",
       "    <tr>\n",
       "      <th>2</th>\n",
       "      <td>25</td>\n",
       "      <td>165</td>\n",
       "      <td>402</td>\n",
       "      <td>399</td>\n",
       "      <td>318</td>\n",
       "      <td>451</td>\n",
       "      <td>1107</td>\n",
       "      <td>838</td>\n",
       "      <td>685</td>\n",
       "      <td>815</td>\n",
       "      <td>1004</td>\n",
       "      <td>967</td>\n",
       "      <td>1054</td>\n",
       "    </tr>\n",
       "    <tr>\n",
       "      <th>3</th>\n",
       "      <td>26</td>\n",
       "      <td>241</td>\n",
       "      <td>485</td>\n",
       "      <td>419</td>\n",
       "      <td>400</td>\n",
       "      <td>480</td>\n",
       "      <td>1212</td>\n",
       "      <td>721</td>\n",
       "      <td>695</td>\n",
       "      <td>775</td>\n",
       "      <td>917</td>\n",
       "      <td>906</td>\n",
       "      <td>1019</td>\n",
       "    </tr>\n",
       "    <tr>\n",
       "      <th>4</th>\n",
       "      <td>28</td>\n",
       "      <td>174</td>\n",
       "      <td>432</td>\n",
       "      <td>409</td>\n",
       "      <td>355</td>\n",
       "      <td>484</td>\n",
       "      <td>1084</td>\n",
       "      <td>729</td>\n",
       "      <td>712</td>\n",
       "      <td>805</td>\n",
       "      <td>937</td>\n",
       "      <td>910</td>\n",
       "      <td>991</td>\n",
       "    </tr>\n",
       "    <tr>\n",
       "      <th>5</th>\n",
       "      <td>54</td>\n",
       "      <td>142</td>\n",
       "      <td>422</td>\n",
       "      <td>399</td>\n",
       "      <td>333</td>\n",
       "      <td>504</td>\n",
       "      <td>1144</td>\n",
       "      <td>759</td>\n",
       "      <td>791</td>\n",
       "      <td>940</td>\n",
       "      <td>1259</td>\n",
       "      <td>1143</td>\n",
       "      <td>1077</td>\n",
       "    </tr>\n",
       "    <tr>\n",
       "      <th>6</th>\n",
       "      <td>57</td>\n",
       "      <td>191</td>\n",
       "      <td>494</td>\n",
       "      <td>435</td>\n",
       "      <td>372</td>\n",
       "      <td>529</td>\n",
       "      <td>1195</td>\n",
       "      <td>923</td>\n",
       "      <td>791</td>\n",
       "      <td>923</td>\n",
       "      <td>1001</td>\n",
       "      <td>986</td>\n",
       "      <td>1106</td>\n",
       "    </tr>\n",
       "    <tr>\n",
       "      <th>7</th>\n",
       "      <td>32</td>\n",
       "      <td>184</td>\n",
       "      <td>465</td>\n",
       "      <td>443</td>\n",
       "      <td>358</td>\n",
       "      <td>516</td>\n",
       "      <td>1202</td>\n",
       "      <td>772</td>\n",
       "      <td>789</td>\n",
       "      <td>918</td>\n",
       "      <td>1079</td>\n",
       "      <td>998</td>\n",
       "      <td>1073</td>\n",
       "    </tr>\n",
       "    <tr>\n",
       "      <th>8</th>\n",
       "      <td>24</td>\n",
       "      <td>164</td>\n",
       "      <td>465</td>\n",
       "      <td>436</td>\n",
       "      <td>368</td>\n",
       "      <td>524</td>\n",
       "      <td>1166</td>\n",
       "      <td>769</td>\n",
       "      <td>771</td>\n",
       "      <td>868</td>\n",
       "      <td>1006</td>\n",
       "      <td>992</td>\n",
       "      <td>1074</td>\n",
       "    </tr>\n",
       "    <tr>\n",
       "      <th>9</th>\n",
       "      <td>30</td>\n",
       "      <td>183</td>\n",
       "      <td>470</td>\n",
       "      <td>434</td>\n",
       "      <td>364</td>\n",
       "      <td>531</td>\n",
       "      <td>1211</td>\n",
       "      <td>816</td>\n",
       "      <td>757</td>\n",
       "      <td>865</td>\n",
       "      <td>1043</td>\n",
       "      <td>985</td>\n",
       "      <td>1073</td>\n",
       "    </tr>\n",
       "  </tbody>\n",
       "</table>\n",
       "</div>"
      ],
      "text/plain": [
       "   20   100   200   300   400   500   1000   1200   1500   1700   2000   \\\n",
       "0   67   160   402   370   336   457   1052    820    737    787    952   \n",
       "1   41   158   399   462   311   458   1028    698    681    768    896   \n",
       "2   25   165   402   399   318   451   1107    838    685    815   1004   \n",
       "3   26   241   485   419   400   480   1212    721    695    775    917   \n",
       "4   28   174   432   409   355   484   1084    729    712    805    937   \n",
       "5   54   142   422   399   333   504   1144    759    791    940   1259   \n",
       "6   57   191   494   435   372   529   1195    923    791    923   1001   \n",
       "7   32   184   465   443   358   516   1202    772    789    918   1079   \n",
       "8   24   164   465   436   368   524   1166    769    771    868   1006   \n",
       "9   30   183   470   434   364   531   1211    816    757    865   1043   \n",
       "\n",
       "   2300   2500  \n",
       "0    887   977  \n",
       "1    889   964  \n",
       "2    967  1054  \n",
       "3    906  1019  \n",
       "4    910   991  \n",
       "5   1143  1077  \n",
       "6    986  1106  \n",
       "7    998  1073  \n",
       "8    992  1074  \n",
       "9    985  1073  "
      ]
     },
     "execution_count": 20,
     "metadata": {},
     "output_type": "execute_result"
    }
   ],
   "source": [
    "omp"
   ]
  },
  {
   "cell_type": "code",
   "execution_count": 24,
   "metadata": {},
   "outputs": [
    {
     "data": {
      "text/plain": [
       "Index(['20 ', '100 ', '200 ', '300 ', '400 ', '500 ', '1000 ', '1200 ',\n",
       "       '1500 ', '1700 ', '2000 ', '2300 ', '2500'],\n",
       "      dtype='object')"
      ]
     },
     "execution_count": 24,
     "metadata": {},
     "output_type": "execute_result"
    }
   ],
   "source": [
    "sec.columns"
   ]
  },
  {
   "cell_type": "code",
   "execution_count": 20,
   "metadata": {},
   "outputs": [
    {
     "data": {
      "text/html": [
       "<div>\n",
       "<style scoped>\n",
       "    .dataframe tbody tr th:only-of-type {\n",
       "        vertical-align: middle;\n",
       "    }\n",
       "\n",
       "    .dataframe tbody tr th {\n",
       "        vertical-align: top;\n",
       "    }\n",
       "\n",
       "    .dataframe thead th {\n",
       "        text-align: right;\n",
       "    }\n",
       "</style>\n",
       "<table border=\"1\" class=\"dataframe\">\n",
       "  <thead>\n",
       "    <tr style=\"text-align: right;\">\n",
       "      <th></th>\n",
       "      <th>20</th>\n",
       "      <th>100</th>\n",
       "      <th>200</th>\n",
       "      <th>300</th>\n",
       "      <th>400</th>\n",
       "      <th>500</th>\n",
       "      <th>1000</th>\n",
       "      <th>1500</th>\n",
       "      <th>2000</th>\n",
       "      <th>2500</th>\n",
       "      <th>3000</th>\n",
       "    </tr>\n",
       "  </thead>\n",
       "  <tbody>\n",
       "    <tr>\n",
       "      <th>count</th>\n",
       "      <td>10.0</td>\n",
       "      <td>10.0</td>\n",
       "      <td>10.0</td>\n",
       "      <td>10.0</td>\n",
       "      <td>10.0</td>\n",
       "      <td>10.0</td>\n",
       "      <td>10.0</td>\n",
       "      <td>10.0</td>\n",
       "      <td>10.0</td>\n",
       "      <td>10.0</td>\n",
       "      <td>10.0</td>\n",
       "    </tr>\n",
       "    <tr>\n",
       "      <th>mean</th>\n",
       "      <td>67,132,790.0</td>\n",
       "      <td>331,867,700.0</td>\n",
       "      <td>584,119,100.0</td>\n",
       "      <td>623,419,500.0</td>\n",
       "      <td>869,154,500.0</td>\n",
       "      <td>856,054,300.0</td>\n",
       "      <td>1,196,801,000.0</td>\n",
       "      <td>1,455,503,000.0</td>\n",
       "      <td>1,383,825,000.0</td>\n",
       "      <td>1,605,813,000.0</td>\n",
       "      <td>408,729,000.0</td>\n",
       "    </tr>\n",
       "    <tr>\n",
       "      <th>std</th>\n",
       "      <td>27,018,879.9</td>\n",
       "      <td>65,500,002.8</td>\n",
       "      <td>160,457,616.8</td>\n",
       "      <td>104,903,388.0</td>\n",
       "      <td>168,540,714.5</td>\n",
       "      <td>107,467,894.5</td>\n",
       "      <td>168,313,898.8</td>\n",
       "      <td>187,779,632.4</td>\n",
       "      <td>160,220,662.7</td>\n",
       "      <td>288,956,518.8</td>\n",
       "      <td>10,285,134.0</td>\n",
       "    </tr>\n",
       "    <tr>\n",
       "      <th>min</th>\n",
       "      <td>35,149,600.0</td>\n",
       "      <td>278,284,000.0</td>\n",
       "      <td>436,584,000.0</td>\n",
       "      <td>516,362,000.0</td>\n",
       "      <td>590,675,000.0</td>\n",
       "      <td>729,116,000.0</td>\n",
       "      <td>928,260,000.0</td>\n",
       "      <td>1,200,880,000.0</td>\n",
       "      <td>1,071,160,000.0</td>\n",
       "      <td>1,327,000,000.0</td>\n",
       "      <td>395,916,000.0</td>\n",
       "    </tr>\n",
       "    <tr>\n",
       "      <th>25%</th>\n",
       "      <td>53,236,500.0</td>\n",
       "      <td>286,168,500.0</td>\n",
       "      <td>492,358,250.0</td>\n",
       "      <td>530,796,000.0</td>\n",
       "      <td>758,346,750.0</td>\n",
       "      <td>790,025,500.0</td>\n",
       "      <td>1,064,015,000.0</td>\n",
       "      <td>1,386,630,000.0</td>\n",
       "      <td>1,328,645,000.0</td>\n",
       "      <td>1,331,820,000.0</td>\n",
       "      <td>402,422,750.0</td>\n",
       "    </tr>\n",
       "    <tr>\n",
       "      <th>50%</th>\n",
       "      <td>60,577,700.0</td>\n",
       "      <td>302,978,500.0</td>\n",
       "      <td>529,622,500.0</td>\n",
       "      <td>583,554,000.0</td>\n",
       "      <td>868,542,000.0</td>\n",
       "      <td>816,494,000.0</td>\n",
       "      <td>1,204,345,000.0</td>\n",
       "      <td>1,393,510,000.0</td>\n",
       "      <td>1,337,990,000.0</td>\n",
       "      <td>1,644,850,000.0</td>\n",
       "      <td>407,251,000.0</td>\n",
       "    </tr>\n",
       "    <tr>\n",
       "      <th>75%</th>\n",
       "      <td>72,813,250.0</td>\n",
       "      <td>342,602,250.0</td>\n",
       "      <td>630,232,250.0</td>\n",
       "      <td>721,050,000.0</td>\n",
       "      <td>988,930,250.0</td>\n",
       "      <td>965,480,500.0</td>\n",
       "      <td>1,328,817,500.0</td>\n",
       "      <td>1,420,547,500.0</td>\n",
       "      <td>1,514,012,500.0</td>\n",
       "      <td>1,657,152,500.0</td>\n",
       "      <td>410,923,500.0</td>\n",
       "    </tr>\n",
       "    <tr>\n",
       "      <th>max</th>\n",
       "      <td>133,488,000.0</td>\n",
       "      <td>453,484,000.0</td>\n",
       "      <td>992,348,000.0</td>\n",
       "      <td>770,351,000.0</td>\n",
       "      <td>1,125,370,000.0</td>\n",
       "      <td>1,004,110,000.0</td>\n",
       "      <td>1,462,190,000.0</td>\n",
       "      <td>1,793,990,000.0</td>\n",
       "      <td>1,592,160,000.0</td>\n",
       "      <td>2,153,300,000.0</td>\n",
       "      <td>433,392,000.0</td>\n",
       "    </tr>\n",
       "  </tbody>\n",
       "</table>\n",
       "</div>"
      ],
      "text/plain": [
       "                        20                  100                  200  \\\n",
       "count                 10.0                 10.0                 10.0   \n",
       "mean          67,132,790.0        331,867,700.0        584,119,100.0   \n",
       "std           27,018,879.9         65,500,002.8        160,457,616.8   \n",
       "min           35,149,600.0        278,284,000.0        436,584,000.0   \n",
       "25%           53,236,500.0        286,168,500.0        492,358,250.0   \n",
       "50%           60,577,700.0        302,978,500.0        529,622,500.0   \n",
       "75%           72,813,250.0        342,602,250.0        630,232,250.0   \n",
       "max          133,488,000.0        453,484,000.0        992,348,000.0   \n",
       "\n",
       "                       300                  400                  500  \\\n",
       "count                 10.0                 10.0                 10.0   \n",
       "mean         623,419,500.0        869,154,500.0        856,054,300.0   \n",
       "std          104,903,388.0        168,540,714.5        107,467,894.5   \n",
       "min          516,362,000.0        590,675,000.0        729,116,000.0   \n",
       "25%          530,796,000.0        758,346,750.0        790,025,500.0   \n",
       "50%          583,554,000.0        868,542,000.0        816,494,000.0   \n",
       "75%          721,050,000.0        988,930,250.0        965,480,500.0   \n",
       "max          770,351,000.0      1,125,370,000.0      1,004,110,000.0   \n",
       "\n",
       "                      1000                 1500                 2000  \\\n",
       "count                 10.0                 10.0                 10.0   \n",
       "mean       1,196,801,000.0      1,455,503,000.0      1,383,825,000.0   \n",
       "std          168,313,898.8        187,779,632.4        160,220,662.7   \n",
       "min          928,260,000.0      1,200,880,000.0      1,071,160,000.0   \n",
       "25%        1,064,015,000.0      1,386,630,000.0      1,328,645,000.0   \n",
       "50%        1,204,345,000.0      1,393,510,000.0      1,337,990,000.0   \n",
       "75%        1,328,817,500.0      1,420,547,500.0      1,514,012,500.0   \n",
       "max        1,462,190,000.0      1,793,990,000.0      1,592,160,000.0   \n",
       "\n",
       "                      2500                 3000  \n",
       "count                 10.0                 10.0  \n",
       "mean       1,605,813,000.0        408,729,000.0  \n",
       "std          288,956,518.8         10,285,134.0  \n",
       "min        1,327,000,000.0        395,916,000.0  \n",
       "25%        1,331,820,000.0        402,422,750.0  \n",
       "50%        1,644,850,000.0        407,251,000.0  \n",
       "75%        1,657,152,500.0        410,923,500.0  \n",
       "max        2,153,300,000.0        433,392,000.0  "
      ]
     },
     "execution_count": 20,
     "metadata": {},
     "output_type": "execute_result"
    }
   ],
   "source": [
    "omp.describe()"
   ]
  },
  {
   "cell_type": "code",
   "execution_count": 25,
   "metadata": {},
   "outputs": [
    {
     "data": {
      "text/plain": [
       "Index(['20 ', '100 ', '200 ', '300 ', '400 ', '500 ', '1000 ', '1200 ',\n",
       "       '1500 ', '1700 ', '2000 ', '2300 ', '2500'],\n",
       "      dtype='object')"
      ]
     },
     "execution_count": 25,
     "metadata": {},
     "output_type": "execute_result"
    }
   ],
   "source": [
    "omp.columns"
   ]
  },
  {
   "cell_type": "code",
   "execution_count": 26,
   "metadata": {},
   "outputs": [],
   "source": [
    "columnas = sec.columns\n",
    "catidadElementos = len(sec)"
   ]
  },
  {
   "cell_type": "code",
   "execution_count": 27,
   "metadata": {},
   "outputs": [],
   "source": [
    "d = {'sec': [], 'omp': []}\n",
    "for i in columnas:\n",
    "    d[\"sec\"].append(sec[i].mean())\n",
    "    d[\"omp\"].append(omp[i].mean())\n",
    "df = pd.DataFrame(data=d)\n"
   ]
  },
  {
   "cell_type": "code",
   "execution_count": 28,
   "metadata": {},
   "outputs": [
    {
     "data": {
      "text/html": [
       "<div>\n",
       "<style scoped>\n",
       "    .dataframe tbody tr th:only-of-type {\n",
       "        vertical-align: middle;\n",
       "    }\n",
       "\n",
       "    .dataframe tbody tr th {\n",
       "        vertical-align: top;\n",
       "    }\n",
       "\n",
       "    .dataframe thead th {\n",
       "        text-align: right;\n",
       "    }\n",
       "</style>\n",
       "<table border=\"1\" class=\"dataframe\">\n",
       "  <thead>\n",
       "    <tr style=\"text-align: right;\">\n",
       "      <th></th>\n",
       "      <th>sec</th>\n",
       "      <th>omp</th>\n",
       "    </tr>\n",
       "  </thead>\n",
       "  <tbody>\n",
       "    <tr>\n",
       "      <th>0</th>\n",
       "      <td>48.1</td>\n",
       "      <td>38.4</td>\n",
       "    </tr>\n",
       "    <tr>\n",
       "      <th>1</th>\n",
       "      <td>336.8</td>\n",
       "      <td>176.2</td>\n",
       "    </tr>\n",
       "    <tr>\n",
       "      <th>2</th>\n",
       "      <td>818.6</td>\n",
       "      <td>443.6</td>\n",
       "    </tr>\n",
       "    <tr>\n",
       "      <th>3</th>\n",
       "      <td>775.3</td>\n",
       "      <td>420.6</td>\n",
       "    </tr>\n",
       "    <tr>\n",
       "      <th>4</th>\n",
       "      <td>656.2</td>\n",
       "      <td>351.5</td>\n",
       "    </tr>\n",
       "  </tbody>\n",
       "</table>\n",
       "</div>"
      ],
      "text/plain": [
       "                   sec                  omp\n",
       "0                 48.1                 38.4\n",
       "1                336.8                176.2\n",
       "2                818.6                443.6\n",
       "3                775.3                420.6\n",
       "4                656.2                351.5"
      ]
     },
     "execution_count": 28,
     "metadata": {},
     "output_type": "execute_result"
    }
   ],
   "source": [
    "df.head()"
   ]
  },
  {
   "cell_type": "code",
   "execution_count": 44,
   "metadata": {},
   "outputs": [],
   "source": [
    "indices = [i for i in range(3000)]\n",
    "x = pd.Series(indices)"
   ]
  },
  {
   "cell_type": "code",
   "execution_count": 45,
   "metadata": {},
   "outputs": [],
   "source": [
    "df[\"id\"] = sec.columns.tolist()\n",
    "df[\"indices\"] = x"
   ]
  },
  {
   "cell_type": "code",
   "execution_count": 47,
   "metadata": {},
   "outputs": [
    {
     "data": {
      "text/plain": [
       "<matplotlib.axes._subplots.AxesSubplot at 0x7fb96fc3b438>"
      ]
     },
     "execution_count": 47,
     "metadata": {},
     "output_type": "execute_result"
    },
    {
     "data": {
      "image/png": "[encoded data removed]",
      "text/plain": [
       "<Figure size 432x288 with 1 Axes>"
      ]
     },
     "metadata": {},
     "output_type": "display_data"
    }
   ],
   "source": [
    "sns.set(style=\"darkgrid\")\n",
    "sns.lineplot(x=\"indices\", y=\"sec\",\n",
    "             #style=\"event\",\n",
    "             data=df)\n",
    "sns.lineplot(x=\"indices\", y=\"omp\",\n",
    "             #style=\"event\",\n",
    "             data=df)"
   ]
  },
  {
   "cell_type": "code",
   "execution_count": 32,
   "metadata": {},
   "outputs": [
    {
     "data": {
      "text/plain": [
       "<matplotlib.axes._subplots.AxesSubplot at 0x7fb971f2d3c8>"
      ]
     },
     "execution_count": 32,
     "metadata": {},
     "output_type": "execute_result"
    },
    {
     "data": {
      "image/png": "[encoded data removed]",
      "text/plain": [
       "<Figure size 432x288 with 1 Axes>"
      ]
     },
     "metadata": {},
     "output_type": "display_data"
    }
   ],
   "source": [
    "sns.lineplot(data=df[[\"omp\",\"sec\"]], palette=\"tab10\", linewidth=2.5)"
   ]
  },
  {
   "cell_type": "code",
   "execution_count": 48,
   "metadata": {},
   "outputs": [
    {
     "data": {
      "text/plain": [
       "0       20 \n",
       "1      100 \n",
       "2      200 \n",
       "3      300 \n",
       "4      400 \n",
       "5      500 \n",
       "6     1000 \n",
       "7     1200 \n",
       "8     1500 \n",
       "9     1700 \n",
       "10    2000 \n",
       "11    2300 \n",
       "12     2500\n",
       "Name: id, dtype: object"
      ]
     },
     "execution_count": 48,
     "metadata": {},
     "output_type": "execute_result"
    }
   ],
   "source": [
    "df.id"
   ]
  },
  {
   "cell_type": "code",
   "execution_count": 56,
   "metadata": {},
   "outputs": [],
   "source": [
    "df[\"speed\"] = df[\"sec\"]/df[\"omp\"]"
   ]
  },
  {
   "cell_type": "code",
   "execution_count": 57,
   "metadata": {},
   "outputs": [
    {
     "data": {
      "text/html": [
       "<div>\n",
       "<style scoped>\n",
       "    .dataframe tbody tr th:only-of-type {\n",
       "        vertical-align: middle;\n",
       "    }\n",
       "\n",
       "    .dataframe tbody tr th {\n",
       "        vertical-align: top;\n",
       "    }\n",
       "\n",
       "    .dataframe thead th {\n",
       "        text-align: right;\n",
       "    }\n",
       "</style>\n",
       "<table border=\"1\" class=\"dataframe\">\n",
       "  <thead>\n",
       "    <tr style=\"text-align: right;\">\n",
       "      <th></th>\n",
       "      <th>sec</th>\n",
       "      <th>omp</th>\n",
       "      <th>id</th>\n",
       "      <th>speed</th>\n",
       "      <th>indices</th>\n",
       "    </tr>\n",
       "  </thead>\n",
       "  <tbody>\n",
       "    <tr>\n",
       "      <th>9</th>\n",
       "      <td>1,602.9</td>\n",
       "      <td>846.4</td>\n",
       "      <td>1700</td>\n",
       "      <td>1.9</td>\n",
       "      <td>9</td>\n",
       "    </tr>\n",
       "    <tr>\n",
       "      <th>2</th>\n",
       "      <td>818.6</td>\n",
       "      <td>443.6</td>\n",
       "      <td>200</td>\n",
       "      <td>1.8</td>\n",
       "      <td>2</td>\n",
       "    </tr>\n",
       "    <tr>\n",
       "      <th>1</th>\n",
       "      <td>336.8</td>\n",
       "      <td>176.2</td>\n",
       "      <td>100</td>\n",
       "      <td>1.9</td>\n",
       "      <td>1</td>\n",
       "    </tr>\n",
       "    <tr>\n",
       "      <th>8</th>\n",
       "      <td>1,410.8</td>\n",
       "      <td>740.9</td>\n",
       "      <td>1500</td>\n",
       "      <td>1.9</td>\n",
       "      <td>8</td>\n",
       "    </tr>\n",
       "    <tr>\n",
       "      <th>10</th>\n",
       "      <td>1,867.0</td>\n",
       "      <td>1,009.4</td>\n",
       "      <td>2000</td>\n",
       "      <td>1.8</td>\n",
       "      <td>10</td>\n",
       "    </tr>\n",
       "  </tbody>\n",
       "</table>\n",
       "</div>"
      ],
      "text/plain": [
       "                    sec                  omp     id                speed  \\\n",
       "9               1,602.9                846.4  1700                   1.9   \n",
       "2                 818.6                443.6   200                   1.8   \n",
       "1                 336.8                176.2   100                   1.9   \n",
       "8               1,410.8                740.9  1500                   1.9   \n",
       "10              1,867.0              1,009.4  2000                   1.8   \n",
       "\n",
       "    indices  \n",
       "9         9  \n",
       "2         2  \n",
       "1         1  \n",
       "8         8  \n",
       "10       10  "
      ]
     },
     "execution_count": 57,
     "metadata": {},
     "output_type": "execute_result"
    }
   ],
   "source": [
    "df.sample(5)"
   ]
  },
  {
   "cell_type": "code",
   "execution_count": 58,
   "metadata": {},
   "outputs": [
    {
     "data": {
      "text/plain": [
       "<matplotlib.axes._subplots.AxesSubplot at 0x7fb96faa84e0>"
      ]
     },
     "execution_count": 58,
     "metadata": {},
     "output_type": "execute_result"
    },
    {
     "data": {
      "image/png": "[encoded data removed]",
      "text/plain": [
       "<Figure size 432x288 with 1 Axes>"
      ]
     },
     "metadata": {},
     "output_type": "display_data"
    }
   ],
   "source": [
    "sns.set(style=\"darkgrid\")\n",
    "sns.lineplot(x=\"indices\", y=\"speed\",\n",
    "             #style=\"event\",\n",
    "             data=df)"
   ]
  },
  {
   "cell_type": "code",
   "execution_count": null,
   "metadata": {},
   "outputs": [],
   "source": []
  },
  {
   "cell_type": "code",
   "execution_count": null,
   "metadata": {},
   "outputs": [],
   "source": []
  }
 ],
 "metadata": {
  "kernelspec": {
   "display_name": "Python 3",
   "language": "python",
   "name": "python3"
  },
  "language_info": {
   "codemirror_mode": {
    "name": "ipython",
    "version": 3
   },
   "file_extension": ".py",
   "mimetype": "text/x-python",
   "name": "python",
   "nbconvert_exporter": "python",
   "pygments_lexer": "ipython3",
   "version": "3.7.3"
  }
 },
 "nbformat": 4,
 "nbformat_minor": 2
}
